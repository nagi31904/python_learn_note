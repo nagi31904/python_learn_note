{
 "cells": [
  {
   "cell_type": "markdown",
   "metadata": {
    "collapsed": true
   },
   "source": [
    "## APSchedulerq排程器（設定）"
   ]
  },
  {
   "cell_type": "code",
   "execution_count": null,
   "metadata": {
    "collapsed": true
   },
   "outputs": [],
   "source": [
    "##設定\n",
    "jobstores = {\n",
    "    # 'default': {'type': 'sqlalchemy', 'url': 'postgres://127.0.0.1:5432/optimus'},\n",
    "}\n",
    "executors = {\n",
    "    'default': ThreadPoolExecutor(20),\n",
    "    'processpool': ProcessPoolExecutor(5)\n",
    "}\n",
    "job_defaults = {\n",
    "    'coalesce': False,\n",
    "    'max_instances': 3\n",
    "}\n",
    "\n",
    "sched = BackgroundScheduler(jobstores=jobstores, executors=executors, job_defaults=job_defaults, timezone=utc)\n"
   ]
  },
  {
   "cell_type": "code",
   "execution_count": null,
   "metadata": {
    "collapsed": true
   },
   "outputs": [],
   "source": [
    "sched.add_job(my_job, 'cron', day=1)##增加一個工作每天觸發\n",
    "##my_job -- 設定的方法內容\n",
    "##cron  --  發動模式（cron(定時觸發),interval(循環觸發),(此值不填直接在next_run_time填入發動時間)）\n",
    "##day -- 時間設定\n",
    "sched.start()##啟動任務"
   ]
  }
 ],
 "metadata": {
  "kernelspec": {
   "display_name": "Python 3",
   "language": "python",
   "name": "python3"
  },
  "language_info": {
   "codemirror_mode": {
    "name": "ipython",
    "version": 3
   },
   "file_extension": ".py",
   "mimetype": "text/x-python",
   "name": "python",
   "nbconvert_exporter": "python",
   "pygments_lexer": "ipython3",
   "version": "3.6.0"
  }
 },
 "nbformat": 4,
 "nbformat_minor": 2
}
